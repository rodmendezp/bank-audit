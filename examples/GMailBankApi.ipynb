{
 "cells": [
  {
   "cell_type": "code",
   "execution_count": 1,
   "metadata": {},
   "outputs": [],
   "source": [
    "from datetime import date\n",
    "from mailbankdata.banks import Bank\n",
    "from mailbankdata.sources import GMailBankApi"
   ]
  },
  {
   "cell_type": "code",
   "execution_count": 2,
   "metadata": {
    "pycharm": {
     "name": "#%%\n"
    }
   },
   "outputs": [],
   "source": [
    "mail_bank_api = GMailBankApi.from_token_pickle('token.pickle', Bank.BCO_CHILE)"
   ]
  },
  {
   "cell_type": "code",
   "execution_count": 3,
   "metadata": {},
   "outputs": [],
   "source": [
    "st_date, end_date = date(2019, 10, 15), date(2019, 10, 30)"
   ]
  },
  {
   "cell_type": "code",
   "execution_count": 4,
   "metadata": {},
   "outputs": [],
   "source": [
    "transactions = mail_bank_api.all_transactions(st_date, end_date)"
   ]
  },
  {
   "cell_type": "code",
   "execution_count": 5,
   "metadata": {},
   "outputs": [
    {
     "data": {
      "text/plain": [
       "[(2019-10-29 12:35:46, NAT_CRED_EXPENSE, 990.0),\n",
       " (2019-10-29 12:33:35, NAT_CRED_EXPENSE, 3500.0),\n",
       " (2019-10-28 17:14:33, NAT_CRED_EXPENSE, 1440.0),\n",
       " (2019-10-28 13:53:01, NAT_CRED_EXPENSE, 3500.0),\n",
       " (2019-10-28 10:25:09, NAT_CRED_EXPENSE, 27000.0),\n",
       " (2019-10-27 15:23:40, NAT_CRED_EXPENSE, 12077.0),\n",
       " (2019-10-26 21:35:51, NAT_CRED_EXPENSE, 20000.0),\n",
       " (2019-10-26 10:08:18, NAT_CRED_EXPENSE, 4300.0),\n",
       " (2019-10-25 03:01:57, NAT_CRED_PAY, 90901.0),\n",
       " (2019-10-24 10:53:00, NAT_CRED_EXPENSE, 6990.0),\n",
       " (2019-10-23 11:22:42, NAT_CRED_EXPENSE, 7990.0),\n",
       " (2019-10-22 09:34:32, CHECK_WITHDRAW, 30000.0),\n",
       " (2019-10-22 09:32:40, NAT_CRED_EXPENSE, 48637.0),\n",
       " (2019-10-19 19:43:07, NAT_CRED_EXPENSE, 3900.0),\n",
       " (2019-10-18 12:55:29, NAT_CRED_EXPENSE, 3200.0),\n",
       " (2019-10-17 22:59:01, CHECK_TRANSFER, 205700.0),\n",
       " (2019-10-17 12:48:36, CHECK_EXPENSE, 9800.0),\n",
       " (2019-10-16 13:19:56, NAT_CRED_EXPENSE, 15000.0),\n",
       " (2019-10-16 12:27:21, NAT_CRED_EXPENSE, 3500.0),\n",
       " (2019-10-16 09:24:21, INT_CRED_PAY, 45214.0, USD 62.3 (725.75)),\n",
       " (2019-10-16 09:22:07, NAT_CRED_PAY, 40300.0),\n",
       " (2019-10-15 20:52:20, NAT_CRED_EXPENSE, 40300.0),\n",
       " (2019-10-15 14:21:36, NAT_CRED_PAY, 177305.0),\n",
       " (2019-10-15 13:50:10, CHECK_TRANSFER, 19350.0),\n",
       " (2019-10-15 12:59:12, NAT_CRED_EXPENSE, 8945.0),\n",
       " (2019-10-14 23:09:05, CHECK_TRANSFER, 10503.0)]"
      ]
     },
     "execution_count": 5,
     "metadata": {},
     "output_type": "execute_result"
    }
   ],
   "source": [
    "transactions"
   ]
  },
  {
   "cell_type": "code",
   "execution_count": 6,
   "metadata": {},
   "outputs": [],
   "source": [
    "import json\n",
    "from mailbankdata.core.json import TransactionEncoder"
   ]
  },
  {
   "cell_type": "code",
   "execution_count": 7,
   "metadata": {},
   "outputs": [
    {
     "data": {
      "text/plain": [
       "[{'amount': 990.0,\n",
       "  'ttype': 'NAT_CRED_EXPENSE',\n",
       "  'mail_dtime': '2019-10-29T12:35:46'},\n",
       " {'amount': 3500.0,\n",
       "  'ttype': 'NAT_CRED_EXPENSE',\n",
       "  'mail_dtime': '2019-10-29T12:33:35'},\n",
       " {'amount': 1440.0,\n",
       "  'ttype': 'NAT_CRED_EXPENSE',\n",
       "  'mail_dtime': '2019-10-28T17:14:33'},\n",
       " {'amount': 3500.0,\n",
       "  'ttype': 'NAT_CRED_EXPENSE',\n",
       "  'mail_dtime': '2019-10-28T13:53:01'},\n",
       " {'amount': 27000.0,\n",
       "  'ttype': 'NAT_CRED_EXPENSE',\n",
       "  'mail_dtime': '2019-10-28T10:25:09'},\n",
       " {'amount': 12077.0,\n",
       "  'ttype': 'NAT_CRED_EXPENSE',\n",
       "  'mail_dtime': '2019-10-27T15:23:40'},\n",
       " {'amount': 20000.0,\n",
       "  'ttype': 'NAT_CRED_EXPENSE',\n",
       "  'mail_dtime': '2019-10-26T21:35:51'},\n",
       " {'amount': 4300.0,\n",
       "  'ttype': 'NAT_CRED_EXPENSE',\n",
       "  'mail_dtime': '2019-10-26T10:08:18'},\n",
       " {'amount': 90901.0,\n",
       "  'ttype': 'NAT_CRED_PAY',\n",
       "  'mail_dtime': '2019-10-25T03:01:57'},\n",
       " {'amount': 6990.0,\n",
       "  'ttype': 'NAT_CRED_EXPENSE',\n",
       "  'mail_dtime': '2019-10-24T10:53:00'},\n",
       " {'amount': 7990.0,\n",
       "  'ttype': 'NAT_CRED_EXPENSE',\n",
       "  'mail_dtime': '2019-10-23T11:22:42'},\n",
       " {'amount': 30000.0,\n",
       "  'ttype': 'CHECK_WITHDRAW',\n",
       "  'mail_dtime': '2019-10-22T09:34:32'},\n",
       " {'amount': 48637.0,\n",
       "  'ttype': 'NAT_CRED_EXPENSE',\n",
       "  'mail_dtime': '2019-10-22T09:32:40'},\n",
       " {'amount': 3900.0,\n",
       "  'ttype': 'NAT_CRED_EXPENSE',\n",
       "  'mail_dtime': '2019-10-19T19:43:07'},\n",
       " {'amount': 3200.0,\n",
       "  'ttype': 'NAT_CRED_EXPENSE',\n",
       "  'mail_dtime': '2019-10-18T12:55:29'},\n",
       " {'amount': 205700.0,\n",
       "  'ttype': 'CHECK_TRANSFER',\n",
       "  'mail_dtime': '2019-10-17T22:59:01'},\n",
       " {'amount': 9800.0,\n",
       "  'ttype': 'CHECK_EXPENSE',\n",
       "  'mail_dtime': '2019-10-17T12:48:36'},\n",
       " {'amount': 15000.0,\n",
       "  'ttype': 'NAT_CRED_EXPENSE',\n",
       "  'mail_dtime': '2019-10-16T13:19:56'},\n",
       " {'amount': 3500.0,\n",
       "  'ttype': 'NAT_CRED_EXPENSE',\n",
       "  'mail_dtime': '2019-10-16T12:27:21'},\n",
       " {'amount': 45214.0,\n",
       "  'int_amount': 62.3,\n",
       "  'rate': 725.75,\n",
       "  'ttype': 'INT_CRED_PAY',\n",
       "  'mail_dtime': '2019-10-16T09:24:21'},\n",
       " {'amount': 40300.0,\n",
       "  'ttype': 'NAT_CRED_PAY',\n",
       "  'mail_dtime': '2019-10-16T09:22:07'},\n",
       " {'amount': 40300.0,\n",
       "  'ttype': 'NAT_CRED_EXPENSE',\n",
       "  'mail_dtime': '2019-10-15T20:52:20'},\n",
       " {'amount': 177305.0,\n",
       "  'ttype': 'NAT_CRED_PAY',\n",
       "  'mail_dtime': '2019-10-15T14:21:36'},\n",
       " {'amount': 19350.0,\n",
       "  'ttype': 'CHECK_TRANSFER',\n",
       "  'mail_dtime': '2019-10-15T13:50:10'},\n",
       " {'amount': 8945.0,\n",
       "  'ttype': 'NAT_CRED_EXPENSE',\n",
       "  'mail_dtime': '2019-10-15T12:59:12'},\n",
       " {'amount': 10503.0,\n",
       "  'ttype': 'CHECK_TRANSFER',\n",
       "  'mail_dtime': '2019-10-14T23:09:05'}]"
      ]
     },
     "execution_count": 7,
     "metadata": {},
     "output_type": "execute_result"
    }
   ],
   "source": [
    "json.loads(json.dumps(transactions, cls=TransactionEncoder))"
   ]
  },
  {
   "cell_type": "code",
   "execution_count": null,
   "metadata": {},
   "outputs": [],
   "source": []
  }
 ],
 "metadata": {
  "kernelspec": {
   "display_name": "Python 3",
   "language": "python",
   "name": "python3"
  },
  "language_info": {
   "codemirror_mode": {
    "name": "ipython",
    "version": 3
   },
   "file_extension": ".py",
   "mimetype": "text/x-python",
   "name": "python",
   "nbconvert_exporter": "python",
   "pygments_lexer": "ipython3",
   "version": "3.9.1"
  }
 },
 "nbformat": 4,
 "nbformat_minor": 4
}
