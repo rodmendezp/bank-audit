{
 "cells": [
  {
   "cell_type": "code",
   "execution_count": 1,
   "metadata": {},
   "outputs": [],
   "source": [
    "from datetime import date\n",
    "from mailbankdata.banks import Bank\n",
    "from mailbankdata.sources import GMailBankApi"
   ]
  },
  {
   "cell_type": "code",
   "execution_count": 2,
   "metadata": {
    "pycharm": {
     "name": "#%%\n"
    }
   },
   "outputs": [],
   "source": [
    "mail_bank_api = GMailBankApi.from_token_pickle('token.pickle', Bank.BCO_CHILE)"
   ]
  },
  {
   "cell_type": "code",
   "execution_count": 3,
   "metadata": {},
   "outputs": [],
   "source": [
    "st_date, end_date = date(2018, 3, 10), date(2018, 3, 15)"
   ]
  },
  {
   "cell_type": "code",
   "execution_count": 4,
   "metadata": {},
   "outputs": [],
   "source": [
    "transactions = mail_bank_api.check_transactions(st_date, end_date)"
   ]
  },
  {
   "cell_type": "code",
   "execution_count": 5,
   "metadata": {},
   "outputs": [
    {
     "data": {
      "text/plain": [
       "[(2018-03-14 15:06:46, CHECK_EXPENSE, 3400.0),\n",
       " (2018-03-14 13:18:02, CHECK_EXPENSE, 1450.0),\n",
       " (2018-03-14 10:38:59, CHECK_TRANSFER, 500000.0),\n",
       " (2018-03-14 09:59:49, CHECK_TRANSFER, 100000.0),\n",
       " (2018-03-14 09:52:19, CHECK_TRANSFER, 7500.0),\n",
       " (2018-03-11 02:20:36, CHECK_EXPENSE, 10000.0),\n",
       " (2018-03-10 14:09:48, CHECK_EXPENSE, 15500.0)]"
      ]
     },
     "execution_count": 5,
     "metadata": {},
     "output_type": "execute_result"
    }
   ],
   "source": [
    "transactions"
   ]
  },
  {
   "cell_type": "code",
   "execution_count": null,
   "metadata": {},
   "outputs": [],
   "source": []
  }
 ],
 "metadata": {
  "kernelspec": {
   "display_name": "Python 3",
   "language": "python",
   "name": "python3"
  },
  "language_info": {
   "codemirror_mode": {
    "name": "ipython",
    "version": 3
   },
   "file_extension": ".py",
   "mimetype": "text/x-python",
   "name": "python",
   "nbconvert_exporter": "python",
   "pygments_lexer": "ipython3",
   "version": "3.9.1"
  }
 },
 "nbformat": 4,
 "nbformat_minor": 4
}
