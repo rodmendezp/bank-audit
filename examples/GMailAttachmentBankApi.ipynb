{
 "cells": [
  {
   "cell_type": "code",
   "execution_count": 1,
   "metadata": {},
   "outputs": [],
   "source": [
    "from datetime import date\n",
    "from mailbankdata.banks import Bank\n",
    "from mailbankdata.sources import GMailAttachmentBankApi"
   ]
  },
  {
   "cell_type": "code",
   "execution_count": null,
   "metadata": {},
   "outputs": [],
   "source": [
    "msg_sub = 'Prueba Emails Attachment'\n",
    "gmail_api = GMailAttachmentBankApi.api_from_token_pickle('token.pickle')\n",
    "mail_att_bank_api = GMailAttachmentBankApi(gmail_api, Bank.BCO_CHILE, msg_subj=msg_sub)\n",
    "transactions = mail_att_bank_api.int_credit_transactions()"
   ]
  },
  {
   "cell_type": "code",
   "execution_count": null,
   "metadata": {},
   "outputs": [],
   "source": [
    "transactions"
   ]
  },
  {
   "cell_type": "code",
   "execution_count": null,
   "metadata": {},
   "outputs": [],
   "source": []
  }
 ],
 "metadata": {
  "kernelspec": {
   "display_name": "Python 3",
   "language": "python",
   "name": "python3"
  },
  "language_info": {
   "codemirror_mode": {
    "name": "ipython",
    "version": 3
   },
   "file_extension": ".py",
   "mimetype": "text/x-python",
   "name": "python",
   "nbconvert_exporter": "python",
   "pygments_lexer": "ipython3",
   "version": "3.9.1"
  }
 },
 "nbformat": 4,
 "nbformat_minor": 1
}
