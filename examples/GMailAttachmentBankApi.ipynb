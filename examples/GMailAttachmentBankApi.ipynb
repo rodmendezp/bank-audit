{
 "cells": [
  {
   "cell_type": "code",
   "execution_count": 1,
   "metadata": {},
   "outputs": [],
   "source": [
    "from datetime import date\n",
    "from mailbankdata.banks import Bank\n",
    "from mailbankdata.sources import GMailAttachmentBankApi"
   ]
  },
  {
   "cell_type": "code",
   "execution_count": 3,
   "metadata": {},
   "outputs": [],
   "source": [
    "msg_sub = 'Prueba Emails Attachment'\n",
    "gmail_api = GMailAttachmentBankApi.api_from_token_pickle('token.pickle')\n",
    "mail_att_bank_api = GMailAttachmentBankApi(gmail_api, Bank.BCO_CHILE, msg_subj=msg_sub)\n",
    "transactions = mail_att_bank_api.int_credit_transactions()"
   ]
  },
  {
   "cell_type": "code",
   "execution_count": 4,
   "metadata": {},
   "outputs": [
    {
     "data": {
      "text/plain": [
       "[(2020-09-26 18:48:58, INT_CRED_EXPENSE, USD 17.33),\n",
       " (2020-09-22 11:53:09, INT_CRED_EXPENSE, USD 8.5),\n",
       " (2020-09-15 20:37:51, INT_CRED_EXPENSE, USD 0.74),\n",
       " (2020-09-14 06:52:16, INT_CRED_EXPENSE, USD 13.95),\n",
       " (2020-09-11 19:37:47, INT_CRED_EXPENSE, USD 14.96),\n",
       " (2020-09-07 21:57:48, INT_CRED_EXPENSE, USD 1.48),\n",
       " (2020-09-03 23:34:10, INT_CRED_EXPENSE, USD 6.85),\n",
       " (2020-09-03 17:38:37, TransactionType.INT_CRED_PAY, 145301.0, USD 184.65 (786.9)),\n",
       " (2020-09-02 13:11:26, INT_CRED_EXPENSE, USD 7.78)]"
      ]
     },
     "execution_count": 4,
     "metadata": {},
     "output_type": "execute_result"
    }
   ],
   "source": [
    "transactions"
   ]
  },
  {
   "cell_type": "code",
   "execution_count": null,
   "metadata": {},
   "outputs": [],
   "source": []
  }
 ],
 "metadata": {
  "kernelspec": {
   "display_name": "Python 3",
   "language": "python",
   "name": "python3"
  },
  "language_info": {
   "codemirror_mode": {
    "name": "ipython",
    "version": 3
   },
   "file_extension": ".py",
   "mimetype": "text/x-python",
   "name": "python",
   "nbconvert_exporter": "python",
   "pygments_lexer": "ipython3",
   "version": "3.9.1"
  }
 },
 "nbformat": 4,
 "nbformat_minor": 1
}
